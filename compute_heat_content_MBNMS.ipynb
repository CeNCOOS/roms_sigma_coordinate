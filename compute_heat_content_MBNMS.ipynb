{
 "cells": [
  {
   "cell_type": "markdown",
   "metadata": {},
   "source": [
    "Code to test sigma coordinate conversion for ROMS output\n",
    "Note: This uses special cases and is not necessarily generic like the function will be."
   ]
  },
  {
   "cell_type": "code",
   "execution_count": 1,
   "metadata": {},
   "outputs": [],
   "source": [
    "import numpy as np\n",
    "import xarray as xr\n",
    "from set_depth import set_depth"
   ]
  },
  {
   "cell_type": "markdown",
   "metadata": {},
   "source": [
    "Access Data from the model"
   ]
  },
  {
   "cell_type": "code",
   "execution_count": 2,
   "metadata": {},
   "outputs": [],
   "source": [
    "url='http://oceanmodeling.pmc.ucsc.edu:8080/thredds/dodsC/ccsra_2016a_phys_agg_slevs/fmrc/CCSRA_2016a_Phys_ROMS_Sigma-level_Aggregation_best.ncd'\n"
   ]
  },
  {
   "cell_type": "code",
   "execution_count": 3,
   "metadata": {},
   "outputs": [],
   "source": [
    "model=xr.open_dataset(url)"
   ]
  },
  {
   "cell_type": "markdown",
   "metadata": {},
   "source": [
    "Get S coordinate stretching curves at RHO-points"
   ]
  },
  {
   "cell_type": "code",
   "execution_count": 4,
   "metadata": {},
   "outputs": [],
   "source": [
    "Cs_r=model['Cs_r'] # S-coordinate stretching curves at RHO-points\n",
    "Cs_r=Cs_r.values"
   ]
  },
  {
   "cell_type": "code",
   "execution_count": 5,
   "metadata": {},
   "outputs": [],
   "source": [
    "Cs_w=model['Cs_w'] # S-coordinate stretching curves at w-points\n",
    "Cs_w=Cs_w.values"
   ]
  },
  {
   "cell_type": "code",
   "execution_count": 6,
   "metadata": {},
   "outputs": [],
   "source": [
    "Vstretching=model['Vstretching'] # vertical terrain following stretching function"
   ]
  },
  {
   "cell_type": "code",
   "execution_count": 7,
   "metadata": {},
   "outputs": [],
   "source": [
    "Vtransform=model['Vtransform'] # vertical terrain following tranformation equation"
   ]
  },
  {
   "cell_type": "markdown",
   "metadata": {},
   "source": [
    "Get bathymetry and other model parameters need to compute depth from sigma coordinate"
   ]
  },
  {
   "cell_type": "code",
   "execution_count": 8,
   "metadata": {},
   "outputs": [],
   "source": [
    "h=model['h'] # bathymetry at rho points"
   ]
  },
  {
   "cell_type": "code",
   "execution_count": 9,
   "metadata": {},
   "outputs": [],
   "source": [
    "hc=model['hc'] # S-coordinate parameter, critical depth"
   ]
  },
  {
   "cell_type": "code",
   "execution_count": 10,
   "metadata": {},
   "outputs": [],
   "source": [
    "theta_b=model['theta_b'] # S-coordinate bottom control parameter\n",
    "theta_b=theta_b.values"
   ]
  },
  {
   "cell_type": "code",
   "execution_count": 11,
   "metadata": {},
   "outputs": [],
   "source": [
    "theta_s=model['theta_s'] # S-coordinate surface control parameter\n",
    "theta_s=theta_s.values"
   ]
  },
  {
   "cell_type": "code",
   "execution_count": 12,
   "metadata": {},
   "outputs": [],
   "source": [
    "zeta=model['zeta'] # free surface"
   ]
  },
  {
   "cell_type": "code",
   "execution_count": 13,
   "metadata": {},
   "outputs": [],
   "source": [
    "N=42 # number of levels, note w has 43 levels"
   ]
  },
  {
   "cell_type": "code",
   "execution_count": 14,
   "metadata": {},
   "outputs": [],
   "source": [
    "igrid=1 # density point grid (T,S)\n",
    "# use igrid=3 for u and igrid=4 for v\n",
    "# use igrid=5 for w\n"
   ]
  },
  {
   "cell_type": "code",
   "execution_count": 15,
   "metadata": {},
   "outputs": [],
   "source": [
    "report=0\n",
    "zeta=np.squeeze(zeta[0,:,:])"
   ]
  },
  {
   "cell_type": "code",
   "execution_count": 16,
   "metadata": {
    "scrolled": false
   },
   "outputs": [],
   "source": [
    "z=set_depth(Vtransform,Vstretching,theta_s,theta_b,hc,N,igrid,h,zeta,report)"
   ]
  },
  {
   "cell_type": "code",
   "execution_count": 17,
   "metadata": {},
   "outputs": [
    {
     "data": {
      "text/plain": [
       "(181, 186, 42)"
      ]
     },
     "execution_count": 17,
     "metadata": {},
     "output_type": "execute_result"
    }
   ],
   "source": [
    "z.shape"
   ]
  },
  {
   "cell_type": "code",
   "execution_count": 18,
   "metadata": {},
   "outputs": [],
   "source": [
    "igrid=2"
   ]
  },
  {
   "cell_type": "code",
   "execution_count": 19,
   "metadata": {},
   "outputs": [],
   "source": [
    "zs=set_depth(Vtransform,Vstretching,theta_s,theta_b,hc,N,igrid,h,zeta,report)"
   ]
  },
  {
   "cell_type": "code",
   "execution_count": 20,
   "metadata": {},
   "outputs": [
    {
     "data": {
      "text/plain": [
       "(180, 185, 42)"
      ]
     },
     "execution_count": 20,
     "metadata": {},
     "output_type": "execute_result"
    }
   ],
   "source": [
    "zs.shape"
   ]
  },
  {
   "cell_type": "code",
   "execution_count": 21,
   "metadata": {},
   "outputs": [],
   "source": [
    "#[Lp,Mp]=h.shape\n",
    "#L=Lp-1\n",
    "#M=Mp-1\n",
    "##hu=0.5*(h[0:L,0:Mp]+h[1:Lp,0:Mp])\n",
    "#hu=0.5*(h[0:Lp,0:M]+h[0:Lp,1:Mp])\n",
    "#hu.shape"
   ]
  },
  {
   "cell_type": "code",
   "execution_count": 22,
   "metadata": {},
   "outputs": [
    {
     "data": {
      "text/plain": [
       "(181, 185, 42)"
      ]
     },
     "execution_count": 22,
     "metadata": {},
     "output_type": "execute_result"
    }
   ],
   "source": [
    "igrid=3\n",
    "zu=set_depth(Vtransform,Vstretching,theta_s,theta_b,hc,N,igrid,h,zeta,report)\n",
    "zu.shape"
   ]
  },
  {
   "cell_type": "code",
   "execution_count": 23,
   "metadata": {},
   "outputs": [
    {
     "data": {
      "text/plain": [
       "(180, 186, 42)"
      ]
     },
     "execution_count": 23,
     "metadata": {},
     "output_type": "execute_result"
    }
   ],
   "source": [
    "igrid=4\n",
    "zv=set_depth(Vtransform,Vstretching,theta_s,theta_b,hc,N,igrid,h,zeta,report)\n",
    "zv.shape"
   ]
  },
  {
   "cell_type": "code",
   "execution_count": 24,
   "metadata": {},
   "outputs": [
    {
     "name": "stdout",
     "output_type": "stream",
     "text": [
      "(3212, 42, 181, 186)\n",
      "(3212, 42, 181, 185)\n",
      "(3212, 42, 180, 186)\n"
     ]
    }
   ],
   "source": [
    "#model.transpose(('eta_rho','xi_rho','s_rho','time'))\n",
    "temp=model['temp']\n",
    "salt=model['salt']\n",
    "u=model['u']\n",
    "v=model['v']\n",
    "print(temp.shape)\n",
    "print(u.shape)\n",
    "print(v.shape)"
   ]
  },
  {
   "cell_type": "markdown",
   "metadata": {},
   "source": [
    "Grab an actual time "
   ]
  },
  {
   "cell_type": "code",
   "execution_count": 25,
   "metadata": {
    "scrolled": false
   },
   "outputs": [],
   "source": [
    "atemp=temp[0,:,:,:]\n",
    "asalt=salt[0,:,:,:]"
   ]
  },
  {
   "cell_type": "markdown",
   "metadata": {},
   "source": [
    "Get the actual values so we can rearrange to an array we want"
   ]
  },
  {
   "cell_type": "code",
   "execution_count": 26,
   "metadata": {},
   "outputs": [],
   "source": [
    "atemp=atemp.values\n",
    "asalt=asalt.values"
   ]
  },
  {
   "cell_type": "markdown",
   "metadata": {},
   "source": [
    "Transpose to the shape we want so z is the third axis\n",
    "This will now have the shape of as the z data"
   ]
  },
  {
   "cell_type": "code",
   "execution_count": 27,
   "metadata": {},
   "outputs": [],
   "source": [
    "atemp=atemp.transpose((1,2,0))\n",
    "asalt=asalt.transpose((1,2,0))"
   ]
  },
  {
   "cell_type": "code",
   "execution_count": 28,
   "metadata": {},
   "outputs": [
    {
     "name": "stdout",
     "output_type": "stream",
     "text": [
      "(181, 186, 42)\n",
      "(181, 186, 42)\n"
     ]
    }
   ],
   "source": [
    "print(atemp.shape)\n",
    "print(z.shape)"
   ]
  },
  {
   "cell_type": "markdown",
   "metadata": {},
   "source": [
    "Need to find points within Sanctuary Boundary"
   ]
  },
  {
   "cell_type": "code",
   "execution_count": 29,
   "metadata": {},
   "outputs": [],
   "source": [
    "from shapely.geometry import Polygon, Point\n",
    "import scipy.io"
   ]
  },
  {
   "cell_type": "markdown",
   "metadata": {},
   "source": [
    "Below is for MPA not Sanctuary"
   ]
  },
  {
   "cell_type": "code",
   "execution_count": 30,
   "metadata": {},
   "outputs": [],
   "source": [
    "file='c:\\mbns_file\\mbns_outline.mat'\n",
    "mbns=scipy.io.loadmat(file)\n",
    "lat=mbns['lat']\n",
    "long=mbns['long']\n",
    "lat=np.transpose(lat)\n",
    "long=np.transpose(long)\n",
    "#file='c:\\MPA\\ds582\\ds582.shp'"
   ]
  },
  {
   "cell_type": "code",
   "execution_count": 31,
   "metadata": {},
   "outputs": [
    {
     "data": {
      "text/plain": [
       "(6666, 1)"
      ]
     },
     "execution_count": 31,
     "metadata": {},
     "output_type": "execute_result"
    }
   ],
   "source": [
    "lat.shape"
   ]
  },
  {
   "cell_type": "markdown",
   "metadata": {},
   "source": [
    "get the model grid data"
   ]
  },
  {
   "cell_type": "code",
   "execution_count": 32,
   "metadata": {},
   "outputs": [],
   "source": [
    "modellat=model['lat_rho']\n",
    "modellon=model['lon_rho']"
   ]
  },
  {
   "cell_type": "markdown",
   "metadata": {},
   "source": [
    "Read the shapefile for the sanctuary"
   ]
  },
  {
   "cell_type": "code",
   "execution_count": 33,
   "metadata": {},
   "outputs": [],
   "source": [
    "from matplotlib.path import Path\n",
    "apoly=[]\n",
    "lat=lat.flatten()\n",
    "long=long.flatten()\n",
    "lat=np.array(lat)\n",
    "long=np.array(long)\n",
    "for i in range(0,6666):\n",
    "    apoly.append((long[i],lat[i]))\n"
   ]
  },
  {
   "cell_type": "code",
   "execution_count": 34,
   "metadata": {},
   "outputs": [],
   "source": [
    "p=Path(apoly)"
   ]
  },
  {
   "cell_type": "markdown",
   "metadata": {},
   "source": [
    "flatten grid for comparison"
   ]
  },
  {
   "cell_type": "code",
   "execution_count": 35,
   "metadata": {},
   "outputs": [],
   "source": [
    "flat=modellat.values.flatten()\n",
    "flon=modellon.values.flatten()"
   ]
  },
  {
   "cell_type": "code",
   "execution_count": 36,
   "metadata": {},
   "outputs": [],
   "source": [
    "points=np.vstack((flon,flat)).T"
   ]
  },
  {
   "cell_type": "markdown",
   "metadata": {},
   "source": [
    "Now find the model points within the sanctuary"
   ]
  },
  {
   "cell_type": "code",
   "execution_count": 37,
   "metadata": {},
   "outputs": [],
   "source": [
    "thegrid=p.contains_points(points)"
   ]
  },
  {
   "cell_type": "markdown",
   "metadata": {},
   "source": [
    "Okay now we have the points in the santuary...\n",
    "What is next? compute heat content for those points?"
   ]
  },
  {
   "cell_type": "code",
   "execution_count": 38,
   "metadata": {},
   "outputs": [],
   "source": [
    "sanctuarylats=flat[thegrid]\n",
    "sanctuarylons=flon[thegrid]"
   ]
  },
  {
   "cell_type": "markdown",
   "metadata": {},
   "source": [
    "Okay the following works but seems counter to what it should be.  \n",
    "mla is the same as sanctuarylats above"
   ]
  },
  {
   "cell_type": "code",
   "execution_count": 39,
   "metadata": {},
   "outputs": [],
   "source": [
    "nx=np.arange(0,181)\n",
    "ny=np.arange(0,186)\n",
    "[mx,my]=np.meshgrid(ny,nx)"
   ]
  },
  {
   "cell_type": "code",
   "execution_count": 40,
   "metadata": {},
   "outputs": [],
   "source": [
    "mx=mx.flatten()\n",
    "my=my.flatten()"
   ]
  },
  {
   "cell_type": "code",
   "execution_count": 41,
   "metadata": {},
   "outputs": [],
   "source": [
    "xindex=mx[thegrid]\n",
    "yindex=my[thegrid]"
   ]
  },
  {
   "cell_type": "code",
   "execution_count": 42,
   "metadata": {},
   "outputs": [],
   "source": [
    "mla=modellat.values\n",
    "mlo=modellon.values"
   ]
  },
  {
   "cell_type": "code",
   "execution_count": 43,
   "metadata": {},
   "outputs": [],
   "source": [
    "mla=mla[yindex,xindex]\n",
    "mlo=mlo[yindex,xindex]"
   ]
  },
  {
   "cell_type": "code",
   "execution_count": 44,
   "metadata": {},
   "outputs": [],
   "source": [
    "ztest=z[yindex,xindex,:]\n",
    "ttest=atemp[yindex,xindex,:]\n",
    "stest=asalt[yindex,xindex,:]"
   ]
  },
  {
   "cell_type": "code",
   "execution_count": 45,
   "metadata": {},
   "outputs": [
    {
     "data": {
      "text/plain": [
       "(140, 42)"
      ]
     },
     "execution_count": 45,
     "metadata": {},
     "output_type": "execute_result"
    }
   ],
   "source": [
    "ztest.shape"
   ]
  },
  {
   "cell_type": "markdown",
   "metadata": {},
   "source": [
    "Okay this is a flattened version of the z array I think... \n",
    "Need to compute heat capacity and then the heat of the volume of water?"
   ]
  },
  {
   "cell_type": "code",
   "execution_count": 47,
   "metadata": {},
   "outputs": [],
   "source": [
    "import seawater as sw"
   ]
  },
  {
   "cell_type": "code",
   "execution_count": 48,
   "metadata": {},
   "outputs": [],
   "source": [
    "heatcapacity=sw.cp(stest,ttest,ztest) # compute heat capacity of seawater"
   ]
  },
  {
   "cell_type": "code",
   "execution_count": 49,
   "metadata": {},
   "outputs": [],
   "source": [
    "density=sw.dens(stest,ttest,ztest) # compute density of seawhater"
   ]
  },
  {
   "cell_type": "code",
   "execution_count": null,
   "metadata": {},
   "outputs": [],
   "source": [
    "#So heat content is dens*cp*int(T(z)dz) from h1 to h2\n",
    "#Let's loop through the points in the sanctuary and integrate vertically"
   ]
  },
  {
   "cell_type": "code",
   "execution_count": 81,
   "metadata": {},
   "outputs": [],
   "source": [
    "[num,nz]=ztest.shape\n",
    "for j in np.arange(0,num):\n",
    "    sum=0\n",
    "    for i in np.arange(0,nz-1):\n",
    "        # surface area is 10*10 km or 100 km^2 (ignoring the coastline)\n",
    "        if ztest[j,i] < 100:\n",
    "            dz=ztest[j,i+1]-ztest[j,i]\n",
    "            dT=ttest[j,i+1]-ttest[j,i]\n",
    "            triang=0.5*dz*dT\n",
    "            partial=heatcapacity[j,i]*density[j,i]*(ttest[j,i]*dz+triang)\n",
    "            sum=sum+partial\n",
    "    if j==0:\n",
    "        heat=sum\n",
    "    else:\n",
    "        heat=np.append(heat,sum)"
   ]
  },
  {
   "cell_type": "code",
   "execution_count": 82,
   "metadata": {},
   "outputs": [],
   "source": [
    "# heat has units of J/m^2 so if we multiply by 100*(1000^2)\n",
    "#heat=heat*100*1000*1000 # now we are in units of Joules\n",
    "heat=heat/1e+9 # convert to GigaJoules"
   ]
  },
  {
   "cell_type": "code",
   "execution_count": 83,
   "metadata": {},
   "outputs": [
    {
     "data": {
      "text/plain": [
       "array([12.70698489,  9.59390309,  7.01354478,  5.04737063,  3.58729465,\n",
       "       13.47262844, 10.2533318 ,  7.66785756,  5.53551142,  0.        ,\n",
       "       11.1183334 ,  8.18233019,  5.87198946,  4.24426557,  8.93440891,\n",
       "        6.39265321,  4.46743869, 17.53963695, 13.47288176, 10.05277128,\n",
       "        7.13121052,  4.88141791, 28.49358143, 23.9003121 , 19.29747418,\n",
       "       14.83486619, 10.90554504,  7.89580717,  5.43601022, 29.83225482,\n",
       "       25.36098988, 20.83442196, 16.5834882 , 12.53720003,  8.85362833,\n",
       "        6.03190359, 31.795685  , 27.43139453, 22.72320876, 18.14497701,\n",
       "       14.036845  , 10.36212229,  6.9978487 , 34.16900272, 30.15274688,\n",
       "       25.7758637 , 20.87583258, 16.0720935 , 11.90796524,  8.47897426,\n",
       "       35.37426463, 31.89212294, 27.81997281, 23.53770768, 18.82012191,\n",
       "       14.1602413 , 10.25007426,  7.09193741, 32.41934968, 28.75385401,\n",
       "       24.53785174, 20.21362891, 15.86195384, 11.8212935 ,  8.63166388,\n",
       "        6.08579582, 31.71511816, 28.49005578, 24.73613604, 20.52005328,\n",
       "       16.39784873, 12.60143552,  9.44734028,  6.91458846,  4.90896615,\n",
       "        3.49131561, 27.82318015, 24.25438365, 20.35250064, 16.4266398 ,\n",
       "       12.88533264,  9.90374145,  7.29000715,  5.28268865,  3.8165751 ,\n",
       "        2.69837441,  0.        , 23.99667729, 20.2619012 , 16.29673691,\n",
       "       12.86032182, 10.09059038,  7.5912277 ,  5.54710312,  4.04411899,\n",
       "        2.92666915,  2.11754218, 16.35660374, 12.79776281,  9.85250658,\n",
       "        7.5673664 ,  5.6230729 ,  4.22931612, 20.10375677, 16.36059184,\n",
       "       12.94836465,  9.91676587,  7.51565061,  5.61357845,  4.08151987,\n",
       "       20.29517019, 16.43424247, 12.999367  , 10.12037923,  7.7614417 ,\n",
       "        5.80926961, 21.15196143, 16.98210858, 13.31788179, 10.27673393,\n",
       "        7.86557819,  5.98101452,  4.36409352, 18.19093853, 14.25849877,\n",
       "       10.87724835,  8.22999748,  6.16279355,  4.59757314,  3.30812804,\n",
       "       15.26664113,  8.72468727,  6.47448411,  4.78467487,  3.49338554,\n",
       "        0.        ,  3.60674665,  2.61068445,  2.68576165,  1.47229118])"
      ]
     },
     "execution_count": 83,
     "metadata": {},
     "output_type": "execute_result"
    }
   ],
   "source": [
    "heat"
   ]
  },
  {
   "cell_type": "code",
   "execution_count": null,
   "metadata": {},
   "outputs": [],
   "source": []
  },
  {
   "cell_type": "code",
   "execution_count": null,
   "metadata": {},
   "outputs": [],
   "source": []
  },
  {
   "cell_type": "code",
   "execution_count": null,
   "metadata": {},
   "outputs": [],
   "source": []
  },
  {
   "cell_type": "code",
   "execution_count": null,
   "metadata": {},
   "outputs": [],
   "source": []
  },
  {
   "cell_type": "code",
   "execution_count": null,
   "metadata": {},
   "outputs": [],
   "source": []
  },
  {
   "cell_type": "code",
   "execution_count": null,
   "metadata": {},
   "outputs": [],
   "source": []
  },
  {
   "cell_type": "code",
   "execution_count": null,
   "metadata": {},
   "outputs": [],
   "source": []
  },
  {
   "cell_type": "code",
   "execution_count": null,
   "metadata": {},
   "outputs": [],
   "source": []
  },
  {
   "cell_type": "code",
   "execution_count": null,
   "metadata": {},
   "outputs": [],
   "source": []
  },
  {
   "cell_type": "code",
   "execution_count": null,
   "metadata": {},
   "outputs": [],
   "source": []
  },
  {
   "cell_type": "code",
   "execution_count": null,
   "metadata": {},
   "outputs": [],
   "source": []
  },
  {
   "cell_type": "code",
   "execution_count": null,
   "metadata": {},
   "outputs": [],
   "source": []
  },
  {
   "cell_type": "code",
   "execution_count": null,
   "metadata": {},
   "outputs": [],
   "source": []
  },
  {
   "cell_type": "code",
   "execution_count": null,
   "metadata": {},
   "outputs": [],
   "source": []
  },
  {
   "cell_type": "code",
   "execution_count": null,
   "metadata": {},
   "outputs": [],
   "source": []
  },
  {
   "cell_type": "code",
   "execution_count": null,
   "metadata": {
    "scrolled": false
   },
   "outputs": [],
   "source": []
  },
  {
   "cell_type": "code",
   "execution_count": null,
   "metadata": {},
   "outputs": [],
   "source": []
  },
  {
   "cell_type": "code",
   "execution_count": null,
   "metadata": {},
   "outputs": [],
   "source": []
  },
  {
   "cell_type": "code",
   "execution_count": null,
   "metadata": {},
   "outputs": [],
   "source": []
  }
 ],
 "metadata": {
  "kernelspec": {
   "display_name": "Python 3",
   "language": "python",
   "name": "python3"
  },
  "language_info": {
   "codemirror_mode": {
    "name": "ipython",
    "version": 3
   },
   "file_extension": ".py",
   "mimetype": "text/x-python",
   "name": "python",
   "nbconvert_exporter": "python",
   "pygments_lexer": "ipython3",
   "version": "3.6.4"
  }
 },
 "nbformat": 4,
 "nbformat_minor": 2
}
