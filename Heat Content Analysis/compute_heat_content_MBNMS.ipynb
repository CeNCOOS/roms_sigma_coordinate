{
 "cells": [
  {
   "cell_type": "markdown",
   "metadata": {},
   "source": [
    "## MBNMS Upper Heat Content Analysis ##\n",
    "Using the 4DVars ROMS model from UCSC, Upper Heat Content is calculated as the integral of temperature from 0-100 meters multiplied by the a constant.\n",
    "\n",
    "Steps:\n",
    "1. ROMS Data are pulled from the UCSC TDS (THREDDS Data Server)\n",
    "    1. Data are masked to the boundary of the Monterey Bay National Marine Sanctuary\n",
    "    2. Converted into discrete depth bins (from sigma coordinates)\n",
    "2. The __Heat Content__ for the upper 100 meters is calculated\n",
    "3. Those data are __Spatially Summed__ to for the region to make a time series"
   ]
  },
  {
   "cell_type": "code",
   "execution_count": 4,
   "metadata": {},
   "outputs": [],
   "source": [
    "import numpy as np\n",
    "import xarray as xr\n",
    "from set_depth import set_depth\n",
    "import cmocean\n",
    "from shapely.geometry import Polygon, Point\n",
    "from matplotlib.path import Path\n",
    "import scipy.io\n",
    "import matplotlib.pyplot as plt\n",
    "import cartopy.crs as ccrs\n",
    "import cartopy.feature as cfeature\n",
    "import salem\n",
    "from scipy import integrate\n",
    "import pandas as pd"
   ]
  },
  {
   "cell_type": "markdown",
   "metadata": {},
   "source": [
    "Data are accessed through http://oceanmodeling.pmc.ucsc.edu:8080/thredds using `xarray.open_dataset()`"
   ]
  },
  {
   "cell_type": "code",
   "execution_count": 5,
   "metadata": {},
   "outputs": [],
   "source": [
    "url = 'http://oceanmodeling.pmc.ucsc.edu:8080/thredds/dodsC/ccsra_2016a_phys_agg_slevs/fmrc/CCSRA_2016a_Phys_ROMS_Sigma-level_Aggregation_best.ncd'\n",
    "roms_ds = xr.open_dataset(url)"
   ]
  },
  {
   "cell_type": "markdown",
   "metadata": {},
   "source": [
    "## Convert the depth coordinates ##\n",
    "Stretching Information"
   ]
  },
  {
   "cell_type": "code",
   "execution_count": 6,
   "metadata": {},
   "outputs": [],
   "source": [
    "s_coor_streching_rho = roms_ds['Cs_r'].values # S-coordinate stretching curves at RHO-points\n",
    "s_coor_streching_w = roms_ds['Cs_w'].values # S-coordinate stretching curves at w-points\n",
    "vertical_stretching_function = roms_ds['Vstretching'] # vertical terrain following stretching function\n",
    "vertical_transformation_function = roms_ds['Vtransform'] # vertical terrain following tranformation equation"
   ]
  },
  {
   "cell_type": "code",
   "execution_count": 7,
   "metadata": {},
   "outputs": [],
   "source": [
    "h = roms_ds['h'] # bathymetry at rho points\n",
    "h_critical = roms_ds['hc'] # S-coordinate parameter, critical depth\n",
    "theta_bottom = roms_ds['theta_b'].values # S-coordinate bottom control parameter\n",
    "theta_surface = roms_ds['theta_s'].values # S-coordinate surface control parameter\n",
    "zeta = roms_ds['zeta'] # free surface\n",
    "N_levels=42 # number of levels, note w has 43 levels\n",
    "zeta = np.squeeze(zeta[0,:,:]) # reduce dimensions to"
   ]
  },
  {
   "cell_type": "markdown",
   "metadata": {},
   "source": [
    "__Calculate z-depths for rho points__"
   ]
  },
  {
   "cell_type": "code",
   "execution_count": null,
   "metadata": {},
   "outputs": [],
   "source": [
    "%%time\n",
    "igrid=1 # density point grid, for (T,S) use igrid=3, for u and igrid=4 for v # use igrid=5 for w\n",
    "z_rho = set_depth(vertical_transformation_function, vertical_stretching_function, theta_surface, theta_bottom, h_critical, N_levels, igrid, h, zeta, report=0)"
   ]
  },
  {
   "cell_type": "markdown",
   "metadata": {},
   "source": [
    "__Calculate z-depths for stream functions points__"
   ]
  },
  {
   "cell_type": "code",
   "execution_count": null,
   "metadata": {},
   "outputs": [],
   "source": [
    "%%time\n",
    "igrid=2 # density point grid, for (T,S) use igrid=3, for u and igrid=4 for v # use igrid=5 for w\n",
    "z_stream = set_depth(vertical_transformation_function, vertical_stretching_function, theta_surface, theta_bottom, h_critical, N_levels, igrid, h, zeta, report=0)"
   ]
  },
  {
   "cell_type": "markdown",
   "metadata": {},
   "source": [
    "Transpose to the shape we want so z is the third axis<br>\n",
    "This will now have the shape of as the z data"
   ]
  },
  {
   "cell_type": "markdown",
   "metadata": {},
   "source": [
    "## Interpolate Temperature to a grid ##\n",
    "- Take a subset of the ROMS Dataset to work with\n",
    "- Calculate z-depths with the stretching functions\n",
    "- At each point interpolate to the nearest z-depth bin\n"
   ]
  },
  {
   "cell_type": "markdown",
   "metadata": {},
   "source": [
    "There is a lot going on here, but the idea is to replace the `eta_rho` and `xi_rho` index based dimension with the latitudes and longitudes coordinates, since xarray can handle these natively"
   ]
  },
  {
   "cell_type": "code",
   "execution_count": null,
   "metadata": {},
   "outputs": [],
   "source": [
    "roms_ds = xr.open_dataset(url)\n",
    "roms_temp = roms_ds['temp']\n",
    "roms_temp_latitude = roms_temp['lat_rho'].values[:,0]\n",
    "roms_temp_longitude = roms_temp['lon_rho'].values[0,:]\n",
    "roms_temp = roms_temp.assign_coords({\"eta_rho\":roms_temp_latitude, \"xi_rho\":roms_temp_longitude})\n",
    "roms_temp = roms_temp.rename({\"eta_rho\":\"latitude\", \"xi_rho\":\"longitude\"})\n",
    "roms_temp = roms_temp.drop('lat_rho', errors='ignore')\n",
    "roms_temp = roms_temp.drop('lon_rho', errors='ignore')\n",
    "roms_temp = roms_temp.drop('time_run', errors='ignore')\n",
    "roms_temp = roms_temp.transpose('time','latitude','longitude','s_rho')\n",
    "roms_temp['z_rho'] = (('latitude','longitude','s_rho'),z_rho) # Add the depth values back to the Dataset"
   ]
  },
  {
   "cell_type": "code",
   "execution_count": 328,
   "metadata": {},
   "outputs": [],
   "source": [
    "def calculate_upper_heat_content(temperature, upper_depth=-100 ):\n",
    "    \"\"\" \n",
    "    Calculate upper ocean heat content from ROMS\n",
    "    \n",
    "    Calculate the upper ocean heat (J/m^2) content from the CA ROMS model output\n",
    "    Density is assumed constant at 1025 kg/m^3\n",
    "    specific heat is 3850 J/(kg C)\n",
    "    Args:\n",
    "        temperature: xarray dataset with dimensions (latitude,longitude,s_sho) \n",
    "        z_rho: array mapping sigma depth bins to depths in meters with dimensions (latitude,longitude,s_sho) \n",
    "        upper_depth: depth to integrate to from the surface, values below the surface are negative\n",
    "\n",
    "    Returns:\n",
    "        upper_heat_content: array of upper heat content values in the shape of the temperature input dimensions (latitude, longitude)\n",
    "        upper_heat_content_b_bins: array of the number of depth bins used for integrated upper heat content in the shape of the temperature input dimensions (latitude, longitude)\n",
    "    \"\"\"\n",
    "    z_rho = temperature.z_rho.values\n",
    "    cp = 3850\n",
    "    density = 1025\n",
    "    \n",
    "    if len(z_rho.shape) == 1:\n",
    "        '''Calculating at single point'''\n",
    "        upper_heat_content = np.zeros(shape=(1))\n",
    "        upper_heat_content_n_bins = np.zeros(shape=(1))\n",
    "        roms_temperature_flattened = temperature.values.reshape(-1, temperature.shape[-1])\n",
    "        \n",
    "    else:\n",
    "        upper_heat_content = np.zeros(shape=(z_rho.shape[0]*z_rho.shape[1]))\n",
    "        upper_heat_content_n_bins = np.zeros(shape=(z_rho.shape[0]*z_rho.shape[1]))\n",
    "        roms_temperature_flattened = temperature.values.reshape(-1, temperature.shape[-1])\n",
    "    for i, grid_point in enumerate(z_rho.reshape(-1, z_rho.shape[-1])):\n",
    "        #Find index of depth less than 100 meters\n",
    "        upper_ix = np.where(grid_point >= upper_depth)[0]\n",
    "        # Integrate\n",
    "        if not upper_ix.size == 0:\n",
    "            integrated_temp = integrate.simps(roms_temperature_flattened[i,upper_ix], grid_point[upper_ix])\n",
    "            upper_heat_content[i] = density * cp * integrated_temp\n",
    "            upper_heat_content_n_bins[i] = len(upper_ix)\n",
    "        else:\n",
    "            upper_heat_content[i] = np.nan\n",
    "            upper_heat_content_n_bins[i] = np.nan\n",
    "    \n",
    "    if len(z_rho.shape) == 1:\n",
    "        return upper_heat_content, upper_heat_content_n_bins\n",
    "    else:\n",
    "        upper_heat_content = upper_heat_content.reshape(z_rho.shape[:2])\n",
    "        upper_heat_content_n_bins = upper_heat_content_n_bins.reshape(z_rho.shape[:2])\n",
    "        return upper_heat_content, upper_heat_content_n_bins"
   ]
  },
  {
   "cell_type": "markdown",
   "metadata": {},
   "source": [
    "## Testing out the function with M1 data\n",
    "\n",
    "This is pretty slow still ~30 mintues because the integration needs to be looped and the data has to checked up at each timestep"
   ]
  },
  {
   "cell_type": "code",
   "execution_count": null,
   "metadata": {},
   "outputs": [],
   "source": [
    "import time"
   ]
  },
  {
   "cell_type": "code",
   "execution_count": 361,
   "metadata": {},
   "outputs": [
    {
     "name": "stdout",
     "output_type": "stream",
     "text": [
      "0 0.4 s\n",
      "100 34.6 s\n",
      "200 35.9 s\n",
      "300 35.3 s\n",
      "400 31.2 s\n",
      "500 35.6 s\n",
      "600 41.0 s\n",
      "700 43.0 s\n",
      "800 34.5 s\n",
      "900 33.8 s\n",
      "1000 31.6 s\n",
      "1100 38.5 s\n",
      "1200 32.8 s\n",
      "1300 30.7 s\n",
      "1400 39.9 s\n",
      "1500 33.7 s\n",
      "1600 32.7 s\n",
      "1700 37.2 s\n",
      "1800 42.8 s\n",
      "1900 31.8 s\n",
      "2000 43.5 s\n",
      "2100 33.9 s\n",
      "2200 42.8 s\n",
      "2300 46.7 s\n",
      "2400 56.4 s\n",
      "2500 69.3 s\n",
      "2600 61.5 s\n",
      "2700 59.8 s\n",
      "2800 63.3 s\n",
      "2900 66.5 s\n",
      "3000 59.1 s\n",
      "3100 65.3 s\n",
      "3200 57.5 s\n",
      "CPU times: user 9.77 s, sys: 857 ms, total: 10.6 s\n",
      "Wall time: 23min 34s\n"
     ]
    }
   ],
   "source": [
    "%%time\n",
    "m1_temp = roms_temp.sel(latitude=36.75,longitude= -122, method=\"nearest\")\n",
    "m1_heat_content = np.zeros(shape=m1_temp.time.shape)\n",
    "for i in range(len(m1_heat_content)):\n",
    "    if i == 0:\n",
    "        start_time = time.time()\n",
    "        \n",
    "    upper_heat_content, upper_heat_content_n_bins = calculate_upper_heat_content(m1_temp.isel(time=i), upper_depth=-100)\n",
    "    m1_heat_content[i] = upper_heat_content\n",
    "    if i%100 == 0:\n",
    "        print(i,round(time.time()-start_time,1),'s')\n",
    "        start_time = time.time()\n",
    "        "
   ]
  },
  {
   "cell_type": "code",
   "execution_count": 362,
   "metadata": {},
   "outputs": [
    {
     "data": {
      "text/plain": [
       "[<matplotlib.lines.Line2D at 0x134a85f28>]"
      ]
     },
     "execution_count": 362,
     "metadata": {},
     "output_type": "execute_result"
    },
    {
     "data": {
      "image/png": "[encoded data removed]",
      "text/plain": [
       "<Figure size 432x288 with 1 Axes>"
      ]
     },
     "metadata": {
      "needs_background": "light"
     },
     "output_type": "display_data"
    }
   ],
   "source": [
    "fig, ax = plt.subplots()\n",
    "times = m1_temp.time.values\n",
    "ax.plot(times, m1_heat_content)"
   ]
  },
  {
   "cell_type": "markdown",
   "metadata": {},
   "source": [
    "__Push to pandas and save a csv for posterity__"
   ]
  },
  {
   "cell_type": "code",
   "execution_count": 447,
   "metadata": {},
   "outputs": [],
   "source": [
    "roms_heat = pd.DataFrame(columns=['dateTime','heatContent'])\n",
    "roms_heat['dateTime'] = m1_temp.time\n",
    "roms_heat['heatContent'] = m1_heat_content\n",
    "roms_heat.index = roms_heat['dateTime']\n",
    "roms_heat.to_csv('roms_m1_heat_content.csv')"
   ]
  }
 ],
 "metadata": {
  "kernelspec": {
   "display_name": "Python 3",
   "language": "python",
   "name": "python3"
  },
  "language_info": {
   "codemirror_mode": {
    "name": "ipython",
    "version": 3
   },
   "file_extension": ".py",
   "mimetype": "text/x-python",
   "name": "python",
   "nbconvert_exporter": "python",
   "pygments_lexer": "ipython3",
   "version": "3.7.3"
  }
 },
 "nbformat": 4,
 "nbformat_minor": 4
}
