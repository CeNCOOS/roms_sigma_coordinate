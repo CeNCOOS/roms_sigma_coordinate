{
 "cells": [
  {
   "cell_type": "markdown",
   "metadata": {},
   "source": [
    "## MBNMS Upper Heat Content Analysis ##\n",
    "Using the 4DVars ROMS model from UCSC, Upper Heat Content is calculated as the integral of temperature from 0-100 meters multiplied by the a constant.\n",
    "\n",
    "Steps:\n",
    "1. ROMS Data are pulled from the UCSC TDS (THREDDS Data Server)\n",
    "    1. Data are masked to the boundary of the Monterey Bay National Marine Sanctuary\n",
    "    2. Converted into discrete depth bins (from sigma coordinates)\n",
    "2. The __Heat Content__ for the upper 100 meters is calculated\n",
    "3. Those data are __Spatially Summed__ to for the region to make a time series"
   ]
  },
  {
   "cell_type": "markdown",
   "metadata": {},
   "source": [
    "__Load the Sanctuary Shape file in first__"
   ]
  },
  {
   "cell_type": "code",
   "execution_count": 1,
   "metadata": {},
   "outputs": [],
   "source": [
    "# Weird Bug here, but make sure to run this first\n",
    "import salem\n",
    "sanctuary_outline= salem.read_shapefile('../../mbns_boundary_files/Condition_report_environments_MBNMS/MBNMS_3_environments.shp')\n",
    "inshore = sanctuary_outline[sanctuary_outline['Environmen'] == \"Nearshore\"]\n",
    "offshore = sanctuary_outline[sanctuary_outline['Environmen'] == \"Offshore\"]\n",
    "davidson = sanctuary_outline[sanctuary_outline['Environmen'] == \"Seamount\"]\n",
    "bbox = ((sanctuary_outline['max_y'].max(),sanctuary_outline['min_y'].min()),(sanctuary_outline['max_x'].max(),sanctuary_outline['min_x'].min()))"
   ]
  },
  {
   "cell_type": "code",
   "execution_count": 2,
   "metadata": {},
   "outputs": [],
   "source": [
    "import sys\n",
    "sys.path.append(\"..\")\n",
    "from set_depth import set_depth\n",
    "import numpy as np\n",
    "import xarray as xr\n",
    "import matplotlib.pyplot as plt\n",
    "import cartopy.crs as ccrs\n",
    "import cartopy.feature as cfeature\n",
    "from scipy import integrate\n",
    "import pandas as pd\n",
    "import datetime as dt\n",
    "import time, cmocean"
   ]
  },
  {
   "cell_type": "markdown",
   "metadata": {},
   "source": [
    "Data are accessed through http://oceanmodeling.pmc.ucsc.edu:8080/thredds using `xarray.open_dataset()`"
   ]
  },
  {
   "cell_type": "code",
   "execution_count": 3,
   "metadata": {},
   "outputs": [],
   "source": [
    "url = 'http://oceanmodeling.pmc.ucsc.edu:8080/thredds/dodsC/ccsra_2016a_phys_agg_slevs/fmrc/CCSRA_2016a_Phys_ROMS_Sigma-level_Aggregation_best.ncd'\n",
    "roms_ds = xr.open_dataset(url)"
   ]
  },
  {
   "cell_type": "markdown",
   "metadata": {},
   "source": [
    "## Convert the depth coordinates ##\n",
    "Stretching Information"
   ]
  },
  {
   "cell_type": "code",
   "execution_count": 4,
   "metadata": {},
   "outputs": [],
   "source": [
    "s_coor_streching_rho = roms_ds['Cs_r'].values # S-coordinate stretching curves at RHO-points\n",
    "s_coor_streching_w = roms_ds['Cs_w'].values # S-coordinate stretching curves at w-points\n",
    "vertical_stretching_function = roms_ds['Vstretching'] # vertical terrain following stretching function\n",
    "vertical_transformation_function = roms_ds['Vtransform'] # vertical terrain following tranformation equation"
   ]
  },
  {
   "cell_type": "code",
   "execution_count": 5,
   "metadata": {},
   "outputs": [],
   "source": [
    "h = roms_ds['h'] # bathymetry at rho points\n",
    "h_critical = roms_ds['hc'] # S-coordinate parameter, critical depth\n",
    "theta_bottom = roms_ds['theta_b'].values # S-coordinate bottom control parameter\n",
    "theta_surface = roms_ds['theta_s'].values # S-coordinate surface control parameter\n",
    "zeta = roms_ds['zeta'] # free surface\n",
    "N_levels=42 # number of levels, note w has 43 levels\n",
    "zeta = np.squeeze(zeta[0,:,:]) # reduce dimensions to"
   ]
  },
  {
   "cell_type": "markdown",
   "metadata": {},
   "source": [
    "__Calculate z-depths for rho points__"
   ]
  },
  {
   "cell_type": "code",
   "execution_count": 6,
   "metadata": {},
   "outputs": [
    {
     "name": "stdout",
     "output_type": "stream",
     "text": [
      "CPU times: user 511 ms, sys: 209 ms, total: 721 ms\n",
      "Wall time: 3.86 s\n"
     ]
    }
   ],
   "source": [
    "%%time\n",
    "igrid=1 # density point grid, for (T,S) use igrid=3, for u and igrid=4 for v # use igrid=5 for w\n",
    "z_rho = set_depth(vertical_transformation_function, vertical_stretching_function, theta_surface, theta_bottom, h_critical, N_levels, igrid, h, zeta, report=0)"
   ]
  },
  {
   "cell_type": "markdown",
   "metadata": {},
   "source": [
    "__Calculate z-depths for stream functions points__"
   ]
  },
  {
   "cell_type": "code",
   "execution_count": 7,
   "metadata": {},
   "outputs": [
    {
     "name": "stdout",
     "output_type": "stream",
     "text": [
      "CPU times: user 447 ms, sys: 89.5 ms, total: 536 ms\n",
      "Wall time: 807 ms\n"
     ]
    }
   ],
   "source": [
    "%%time\n",
    "igrid=2 # density point grid, for (T,S) use igrid=3, for u and igrid=4 for v # use igrid=5 for w\n",
    "z_stream = set_depth(vertical_transformation_function, vertical_stretching_function, theta_surface, theta_bottom, h_critical, N_levels, igrid, h, zeta, report=0)"
   ]
  },
  {
   "cell_type": "markdown",
   "metadata": {},
   "source": [
    "Transpose to the shape we want so z is the third axis<br>\n",
    "This will now have the shape of as the z data"
   ]
  },
  {
   "cell_type": "markdown",
   "metadata": {},
   "source": [
    "## Interpolate Temperature to a grid ##\n",
    "- Take a subset of the ROMS Dataset to work with\n",
    "- Calculate z-depths with the stretching functions\n",
    "- At each point interpolate to the nearest z-depth bin\n"
   ]
  },
  {
   "cell_type": "markdown",
   "metadata": {},
   "source": [
    "There is a lot going on here, but the idea is to replace the `eta_rho` and `xi_rho` index based dimension with the latitudes and longitudes coordinates, since xarray can handle these natively"
   ]
  },
  {
   "cell_type": "code",
   "execution_count": 13,
   "metadata": {},
   "outputs": [],
   "source": [
    "roms_ds = xr.open_dataset(url)\n",
    "roms_temp = roms_ds['temp']\n",
    "roms_temp_latitude = roms_temp['lat_rho'].values[:,0]\n",
    "roms_temp_longitude = roms_temp['lon_rho'].values[0,:]\n",
    "roms_temp = roms_temp.assign_coords({\"eta_rho\":roms_temp_latitude, \"xi_rho\":roms_temp_longitude})\n",
    "roms_temp = roms_temp.rename({\"eta_rho\":\"latitude\", \"xi_rho\":\"longitude\"})\n",
    "roms_temp = roms_temp.drop('lat_rho', errors='ignore')\n",
    "roms_temp = roms_temp.drop('lon_rho', errors='ignore')\n",
    "roms_temp = roms_temp.drop('time_run', errors='ignore')\n",
    "roms_temp = roms_temp.transpose('time','latitude','longitude','s_rho')\n",
    "roms_temp['z_rho'] = (('latitude','longitude','s_rho'),z_rho) # Add the depth values back to the Dataset"
   ]
  },
  {
   "cell_type": "code",
   "execution_count": 27,
   "metadata": {},
   "outputs": [],
   "source": [
    "def calculate_upper_heat_content(temperature, upper_depth=-100, ignore_shallower=False):\n",
    "    \"\"\" \n",
    "    Calculate upper ocean heat content from ROMS\n",
    "    \n",
    "    Calculate the upper ocean heat (J/m^2) content from the CA ROMS model output\n",
    "    Density is assumed constant at 1025 kg/m^3\n",
    "    specific heat is 3850 J/(kg C)\n",
    "    Args:\n",
    "        temperature: xarray dataset with dimensions (latitude,longitude,s_sho) \n",
    "        z_rho: array mapping sigma depth bins to depths in meters with dimensions (latitude,longitude,s_sho) \n",
    "        upper_depth: depth to integrate to from the surface, values below the surface are negative\n",
    "        ignore_shallower [Boolean]: If True, will igore cells where the bottom depth bin is less than the integrating depth\n",
    "\n",
    "    Returns:\n",
    "        upper_heat_content: array of upper heat content values in the shape of the temperature input dimensions (latitude, longitude)\n",
    "        upper_heat_content_b_bins: array of the number of depth bins used for integrated upper heat content in the shape of the temperature input dimensions (latitude, longitude)\n",
    "    \"\"\"\n",
    "    z_rho = temperature.z_rho.values\n",
    "    cp = 3850\n",
    "    density = 1025\n",
    "    \n",
    "    if len(z_rho.shape) == 1:\n",
    "        '''Calculating at single point'''\n",
    "        upper_heat_content = np.zeros(shape=(1))\n",
    "        upper_heat_content_n_bins = np.zeros(shape=(1))\n",
    "        roms_temperature_flattened = temperature.values.reshape(-1, temperature.shape[-1])\n",
    "        \n",
    "    else:\n",
    "        upper_heat_content = np.zeros(shape=(z_rho.shape[0]*z_rho.shape[1]))\n",
    "        upper_heat_content_n_bins = np.zeros(shape=(z_rho.shape[0]*z_rho.shape[1]))\n",
    "        roms_temperature_flattened = temperature.values.reshape(-1, temperature.shape[-1])\n",
    "        \n",
    "    for i, grid_point in enumerate(z_rho.reshape(-1, z_rho.shape[-1])):\n",
    "        # Find index of depth less than 100 meters\n",
    "        upper_ix = np.where(grid_point >= upper_depth)[0]\n",
    "        if ignore_shallower and grid_point[0] > upper_depth:\n",
    "            upper_heat_content[i] = np.nan\n",
    "            upper_heat_content_n_bins[i] = np.nan\n",
    "        \n",
    "        # Integrate            \n",
    "        elif not upper_ix.size == 0:\n",
    "            integrated_temp = integrate.simps(roms_temperature_flattened[i,upper_ix], grid_point[upper_ix])\n",
    "            upper_heat_content[i] = density * cp * integrated_temp\n",
    "            upper_heat_content_n_bins[i] = len(upper_ix)\n",
    "\n",
    "        else:\n",
    "            upper_heat_content[i] = np.nan\n",
    "            upper_heat_content_n_bins[i] = np.nan\n",
    "    \n",
    "    if len(z_rho.shape) == 1:\n",
    "        return upper_heat_content, upper_heat_content_n_bins\n",
    "    \n",
    "    else:\n",
    "        upper_heat_content = upper_heat_content.reshape(z_rho.shape[:2])\n",
    "        upper_heat_content_n_bins = upper_heat_content_n_bins.reshape(z_rho.shape[:2])\n",
    "        return upper_heat_content, upper_heat_content_n_bins"
   ]
  },
  {
   "cell_type": "markdown",
   "metadata": {},
   "source": [
    "## Testing out the function with M1 data\n",
    "\n",
    "This is pretty slow still ~30 mintues because the integration needs to be looped and the data has to checked up at each timestep"
   ]
  },
  {
   "cell_type": "code",
   "execution_count": null,
   "metadata": {},
   "outputs": [
    {
     "name": "stderr",
     "output_type": "stream",
     "text": [
      "/Users/patrick/anaconda3/lib/python3.7/site-packages/ipykernel_launcher.py:35: RuntimeWarning: invalid value encountered in greater_equal\n"
     ]
    },
    {
     "name": "stdout",
     "output_type": "stream",
     "text": [
      "0 0.4 s\n",
      "100 12.8 s\n",
      "200 40.0 s\n",
      "300 58.8 s\n",
      "400 49.5 s\n",
      "500 56.9 s\n",
      "600 75.6 s\n",
      "700 68.9 s\n",
      "800 54.3 s\n",
      "900 56.3 s\n",
      "1000 60.9 s\n",
      "1100 62.6 s\n",
      "1200 55.4 s\n",
      "1300 53.6 s\n",
      "1400 60.6 s\n",
      "1500 57.6 s\n",
      "1600 67.3 s\n",
      "1700 53.5 s\n",
      "1800 62.6 s\n",
      "1900 59.3 s\n",
      "2000 56.6 s\n",
      "2100 61.4 s\n",
      "2200 75.8 s\n",
      "2300 62.3 s\n"
     ]
    }
   ],
   "source": [
    "%%time\n",
    "mbnms_temp = roms_temp.sel(latitude=slice(bbox[0][1]-.15, bbox[0][0]+.05), longitude=slice(bbox[1][1], bbox[1][0]))\n",
    "mbnms_heat_content = np.zeros(shape=mbnms_temp[:,:,:,0].shape)\n",
    "for i in range(len(mbnms_heat_content)):\n",
    "    if i == 0:\n",
    "        start_time = time.time()\n",
    "    upper_heat_content, upper_heat_content_n_bins = calculate_upper_heat_content(mbnms_temp.isel(time=i), upper_depth=-100, ignore_shallower=True)\n",
    "    mbnms_heat_content[i,:,:] = upper_heat_content\n",
    "    if i%100 == 0:\n",
    "        print(i,round(time.time()-start_time,1),'s')\n",
    "        start_time = time.time()"
   ]
  },
  {
   "cell_type": "code",
   "execution_count": 57,
   "metadata": {},
   "outputs": [
    {
     "data": {
      "text/plain": [
       "<cartopy.mpl.geoaxes.GeoAxesSubplot at 0x1320ab3c8>"
      ]
     },
     "execution_count": 57,
     "metadata": {},
     "output_type": "execute_result"
    },
    {
     "data": {
      "image/png": "[encoded data removed]",
      "text/plain": [
       "<Figure size 432x288 with 1 Axes>"
      ]
     },
     "metadata": {
      "needs_background": "light"
     },
     "output_type": "display_data"
    }
   ],
   "source": [
    "fig, ax = plt.subplots(subplot_kw={'projection': ccrs.PlateCarree()})\n",
    "ax.pcolormesh(mbnms_temp.longitude, mbnms_temp.latitude,mbnms_heat_content[0,:,:])\n",
    "davidson.plot(ax=ax, facecolor='None', edgecolor='k',zorder=10)"
   ]
  },
  {
   "cell_type": "markdown",
   "metadata": {},
   "source": [
    "__Now lets create an xarray dataset and use that to save the data as a netcdf file__\n",
    "\n",
    "For operation, the `time` dimension should be unlimited, so data can be written to the file"
   ]
  },
  {
   "cell_type": "code",
   "execution_count": null,
   "metadata": {},
   "outputs": [],
   "source": [
    "data = mbnms_heat_content\n",
    "time = mbnms_temp.time.values\n",
    "longitude = mbnms_temp.longitude.values\n",
    "latitude = mbnms_temp.latitude.values\n",
    "dims = ['time', 'lat', 'lon']\n",
    "ds = xr.Dataset({'heat_content_100_meters': (dims, mbnms_heat_content)},\n",
    "                coords={\"time\":time,\n",
    "                        \"lon\": longitude,\n",
    "                        \"lat\": latitude,\n",
    "                        })\n",
    "ds.attrs['title'] = \"MBNMS Upper Ocean Heat Content - 0-100 meters\"\n",
    "ds.attrs['notes'] = \"Created on \"+dt.datetime.today().strftime(\"%Y-%m-%d\") + \" by pdaniel\""
   ]
  },
  {
   "cell_type": "code",
   "execution_count": null,
   "metadata": {},
   "outputs": [],
   "source": [
    "fname = \"../data/mbnms_upper_heat_content_greater_100.nc\"\n",
    "ds.to_netcdf(path=fname)"
   ]
  },
  {
   "cell_type": "markdown",
   "metadata": {},
   "source": [
    "__Push to pandas and save a csv for posterity__"
   ]
  },
  {
   "cell_type": "markdown",
   "metadata": {},
   "source": [
    "## Extract time series for the MBNMS ##"
   ]
  },
  {
   "cell_type": "code",
   "execution_count": null,
   "metadata": {},
   "outputs": [],
   "source": [
    "mb_bathy = xr.open_dataset('../../../bathy/monterey_crm.nc')\n",
    "elv = mb_bathy['Band1'].values\n",
    "elv[elv > 0] = np.nan\n",
    "elv *= -1\n",
    "xx,yy = np.meshgrid(mb_bathy['lon'].values, mb_bathy['lat'].values)\n",
    "level= 100"
   ]
  },
  {
   "cell_type": "code",
   "execution_count": null,
   "metadata": {},
   "outputs": [],
   "source": [
    "fig, ax = plt.subplots(\n",
    "    subplot_kw={'projection': ccrs.PlateCarree()},\n",
    "    figsize=(6, 6)\n",
    ")\n",
    "\n",
    "ax.contour(xx, yy, elv, levels=[100])"
   ]
  },
  {
   "cell_type": "code",
   "execution_count": null,
   "metadata": {},
   "outputs": [],
   "source": [
    "ds = xr.open_dataset('../data/mbnms_upper_heat_content.nc')"
   ]
  },
  {
   "cell_type": "code",
   "execution_count": null,
   "metadata": {},
   "outputs": [],
   "source": [
    "mbnms_mask = ds.salem.roi(shape=sanctuary_outline[1:], all_touched=False)\n",
    "mbnms_mask.mean(dim=['lat','lon'])['heat_content_100_meters'].plot()"
   ]
  },
  {
   "cell_type": "code",
   "execution_count": null,
   "metadata": {},
   "outputs": [],
   "source": [
    "def is_upwelling(month):\n",
    "    return (month >= 3) & (month <= 6)\n",
    "\n",
    "def is_relaxation(month):\n",
    "    return (month >= 7) & (month <= 10)\n",
    "\n",
    "def is_storm(month):\n",
    "    return (month >= 11) | (month <=2)"
   ]
  },
  {
   "cell_type": "code",
   "execution_count": null,
   "metadata": {},
   "outputs": [],
   "source": [
    "fig, axes = plt.subplots(3, subplot_kw={'projection': ccrs.PlateCarree()})\n",
    "fig.set_size_inches(8.5,12.5)\n",
    "\n",
    "# Upwelling\n",
    "im = (mbnms_mask.sel(time=is_upwelling(mbnms_mask['time.month']))['heat_content_100_meters'].mean(dim=['time'])/1E9).plot.pcolormesh(\n",
    "        ax=axes[0], cmap='Spectral_r',\n",
    "        vmin=1,vmax=4.5,\n",
    "        add_colorbar=False)\n",
    "\n",
    "cb = plt.colorbar(im,ax=axes[0])\n",
    "cb.set_label(label='Heat Content [$GJ \\cdot m^{2}$]', size='large', weight='bold')\n",
    "cb.ax.tick_params(labelsize='large')\n",
    "\n",
    "\n",
    "# Relaxation\n",
    "im = (mbnms_mask.sel(time=is_relaxation(mbnms_mask['time.month']))['heat_content_100_meters'].mean(dim=['time'])/1E9).plot.pcolormesh(\n",
    "        ax=axes[1], cmap='Spectral_r',\n",
    "        vmin=1,vmax=4.5,\n",
    "        add_colorbar=False)\n",
    "cb = plt.colorbar(im,ax=axes[1])\n",
    "cb.set_label(label='Heat Content [$GJ \\cdot m^{2}$]', size='large', weight='bold')\n",
    "cb.ax.tick_params(labelsize='large')\n",
    "\n",
    "# Storm Season\n",
    "im = (mbnms_mask.sel(time=is_storm(mbnms_mask['time.month']))['heat_content_100_meters'].mean(dim=['time'])/1E9).plot.pcolormesh(\n",
    "        ax=axes[2], cmap='Spectral_r',\n",
    "        vmin=1,vmax=4.5,\n",
    "        add_colorbar=False)\n",
    "\n",
    "cb = plt.colorbar(im,ax=axes[2])\n",
    "cb.set_label(label='Heat Content [$GJ \\cdot m^{2}$]', size='large', weight='bold')\n",
    "cb.ax.tick_params(labelsize='large')\n",
    "\n",
    "for ax in axes:\n",
    "    sanctuary_outline[1:].plot(ax=ax, facecolor='None', edgecolor='k',zorder=10)\n",
    "    ax.coastlines('10m')\n",
    "    ax.add_feature(cfeature.NaturalEarthFeature('physical', 'land', '10m', edgecolor='face', facecolor='#f49e42'))\n",
    "#     ax.contour(xx,yy,elv,levels=level)\n",
    "\n",
    "for ax, title in zip(axes.flat, ['Upwelling Season [3-6]','Relaxation Season [7-10]','Winter Season [10-2]']):\n",
    "    ax.axes.get_xaxis().set_ticklabels([])\n",
    "    ax.axes.get_yaxis().set_ticklabels([])\n",
    "    ax.set_title(title, size=20,loc='left')\n",
    "    ax.set_xlabel('')\n",
    "\n",
    "plt.tight_layout()\n",
    "\n",
    "plt.savefig('mbnms_seasonal_mean_heat_content.png',dpi=300, bbox_inches='tight', pad_inches=.25)"
   ]
  },
  {
   "cell_type": "code",
   "execution_count": null,
   "metadata": {},
   "outputs": [],
   "source": [
    "fig = plt.figure()\n",
    "fig.set_size_inches(10,4)\n",
    "mnbms_mask = ds.salem.roi(shape=sanctuary_outline[1:], all_touched=False)\n",
    "mnbms_mask.mean(dim=['lat','lon'])['heat_content_100_meters'].plot(lw=3)\n",
    "\n",
    "mnbms_mask_touched = ds.salem.roi(shape=offshore, all_touched=True)\n",
    "mnbms_mask_touched.mean(dim=['lat','lon'])['heat_content_100_meters'].plot(lw=1)"
   ]
  },
  {
   "cell_type": "code",
   "execution_count": null,
   "metadata": {},
   "outputs": [],
   "source": [
    "mnbms_mask_touched = ds.salem.roi(shape=offshore, all_touched=True)\n",
    "mnbms_mask_touched.mean(dim=['lat','lon'])['heat_content_100_meters'].plot()"
   ]
  },
  {
   "cell_type": "code",
   "execution_count": null,
   "metadata": {},
   "outputs": [],
   "source": [
    "ds.salem.roi(shape=sanctuary_outline[1:], all_touched=True).isel(time=0)['heat_content_100_meters'].plot()"
   ]
  },
  {
   "cell_type": "code",
   "execution_count": null,
   "metadata": {},
   "outputs": [],
   "source": []
  }
 ],
 "metadata": {
  "kernelspec": {
   "display_name": "Python 3",
   "language": "python",
   "name": "python3"
  },
  "language_info": {
   "codemirror_mode": {
    "name": "ipython",
    "version": 3
   },
   "file_extension": ".py",
   "mimetype": "text/x-python",
   "name": "python",
   "nbconvert_exporter": "python",
   "pygments_lexer": "ipython3",
   "version": "3.7.3"
  }
 },
 "nbformat": 4,
 "nbformat_minor": 4
}
